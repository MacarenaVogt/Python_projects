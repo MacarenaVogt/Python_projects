{
 "cells": [
  {
   "cell_type": "markdown",
   "id": "e9e1b735",
   "metadata": {},
   "source": [
    "# Netflix Data Cleaning and Visualization"
   ]
  },
  {
   "cell_type": "markdown",
   "id": "3c06d7e4",
   "metadata": {},
   "source": [
    "<font size=\"3.5\">**About this Dataset:** Netflix is one of the most popular media and video streaming platforms. They have over 8000 movies or tv shows available on their platform, as of mid-2021, they have over 200M Subscribers globally. This tabular dataset consists of listings of all the movies and tv shows available on Netflix, along with details such as - cast, directors, ratings, release year, duration, etc.</font>"
   ]
  },
  {
   "cell_type": "markdown",
   "id": "38c81d4c",
   "metadata": {},
   "source": [
    "<font size=\"3.5\">These are the questions we want to find answers to:<font>\n",
    "\n",
    "- <font size=\"3.5\">**Are there more TV shows or movies ulpoaded on the platform?**<font>\n",
    "- <font size=\"3.5\">**Which is the shortest and longest movie? Which is the TV show with more seasons?**<font>\n",
    "- <font size=\"3.5\">**How is the distribution of movies and TV shows added to the platform over the years?**<font>\n",
    "- <font size=\"3.5\">**Which is the day in which more TV shows/movies were uploaded?**<font>\n",
    "- <font size=\"3.5\">**Which is the majority genre of TV shows and movies?**<font>\n",
    "- <font size=\"3.5\">**Who is the director with most movies/TV shows on the platform?**<font>\n",
    "- <font size=\"3.5\">**What is the country that has produced more TV shows/movies?**<font>\n",
    "\n",
    "<font size=\"3.5\">Remember that we should always start by setting the objectives of the analysis.<font>"
   ]
  },
  {
   "cell_type": "markdown",
   "id": "67325981",
   "metadata": {},
   "source": [
    "<font size=\"3.5\">Since the dataset is from Kaggle we are going to use the Kaggle API to download the dataset.<font>"
   ]
  },
  {
   "cell_type": "markdown",
   "id": "d46b11f9",
   "metadata": {},
   "source": [
    "<font size=\"3.5\">First we need to import the libraries.<font>"
   ]
  },
  {
   "cell_type": "code",
   "execution_count": 1,
   "id": "deeb86a9",
   "metadata": {},
   "outputs": [
    {
     "name": "stdout",
     "output_type": "stream",
     "text": [
      "Defaulting to user installation because normal site-packages is not writeable\n",
      "Requirement already satisfied: opendatasets in ./.local/lib/python3.10/site-packages (0.1.22)\n",
      "Requirement already satisfied: kaggle in ./.local/lib/python3.10/site-packages (from opendatasets) (1.5.12)\n",
      "Requirement already satisfied: click in /usr/lib/python3/dist-packages (from opendatasets) (8.0.3)\n",
      "Requirement already satisfied: tqdm in ./.local/lib/python3.10/site-packages (from opendatasets) (4.64.1)\n",
      "Requirement already satisfied: python-dateutil in ./.local/lib/python3.10/site-packages (from kaggle->opendatasets) (2.8.2)\n",
      "Requirement already satisfied: urllib3 in /usr/lib/python3/dist-packages (from kaggle->opendatasets) (1.26.5)\n",
      "Requirement already satisfied: python-slugify in ./.local/lib/python3.10/site-packages (from kaggle->opendatasets) (7.0.0)\n",
      "Requirement already satisfied: six>=1.10 in /usr/lib/python3/dist-packages (from kaggle->opendatasets) (1.16.0)\n",
      "Requirement already satisfied: requests in /usr/lib/python3/dist-packages (from kaggle->opendatasets) (2.25.1)\n",
      "Requirement already satisfied: certifi in ./.local/lib/python3.10/site-packages (from kaggle->opendatasets) (2022.12.7)\n",
      "Requirement already satisfied: text-unidecode>=1.3 in ./.local/lib/python3.10/site-packages (from python-slugify->kaggle->opendatasets) (1.3)\n"
     ]
    }
   ],
   "source": [
    "!pip install opendatasets\n",
    "import opendatasets as od\n",
    "import pandas as pd\n",
    "import numpy as np\n",
    "import matplotlib.pyplot as plt\n",
    "import seaborn as sns"
   ]
  },
  {
   "cell_type": "code",
   "execution_count": 2,
   "id": "761e76f3",
   "metadata": {},
   "outputs": [
    {
     "name": "stdout",
     "output_type": "stream",
     "text": [
      "Skipping, found downloaded files in \"./netflix-shows\" (use force=True to force download)\n"
     ]
    }
   ],
   "source": [
    "od.download(\"https://www.kaggle.com/datasets/shivamb/netflix-shows\")"
   ]
  },
  {
   "cell_type": "markdown",
   "id": "fea211c2",
   "metadata": {},
   "source": [
    "<font size=\"3.5\">Now that our dataset was downloaded we are going to read it and store it as a dataframe.<font>"
   ]
  },
  {
   "cell_type": "code",
   "execution_count": 3,
   "id": "3539f252",
   "metadata": {},
   "outputs": [],
   "source": [
    "df = pd.read_csv('netflix-shows/netflix_titles.csv')"
   ]
  },
  {
   "cell_type": "code",
   "execution_count": 4,
   "id": "ca10138c",
   "metadata": {},
   "outputs": [
    {
     "data": {
      "text/html": [
       "<div>\n",
       "<style scoped>\n",
       "    .dataframe tbody tr th:only-of-type {\n",
       "        vertical-align: middle;\n",
       "    }\n",
       "\n",
       "    .dataframe tbody tr th {\n",
       "        vertical-align: top;\n",
       "    }\n",
       "\n",
       "    .dataframe thead th {\n",
       "        text-align: right;\n",
       "    }\n",
       "</style>\n",
       "<table border=\"1\" class=\"dataframe\">\n",
       "  <thead>\n",
       "    <tr style=\"text-align: right;\">\n",
       "      <th></th>\n",
       "      <th>show_id</th>\n",
       "      <th>type</th>\n",
       "      <th>title</th>\n",
       "      <th>director</th>\n",
       "      <th>cast</th>\n",
       "      <th>country</th>\n",
       "      <th>date_added</th>\n",
       "      <th>release_year</th>\n",
       "      <th>rating</th>\n",
       "      <th>duration</th>\n",
       "      <th>listed_in</th>\n",
       "      <th>description</th>\n",
       "    </tr>\n",
       "  </thead>\n",
       "  <tbody>\n",
       "    <tr>\n",
       "      <th>0</th>\n",
       "      <td>s1</td>\n",
       "      <td>Movie</td>\n",
       "      <td>Dick Johnson Is Dead</td>\n",
       "      <td>Kirsten Johnson</td>\n",
       "      <td>NaN</td>\n",
       "      <td>United States</td>\n",
       "      <td>September 25, 2021</td>\n",
       "      <td>2020</td>\n",
       "      <td>PG-13</td>\n",
       "      <td>90 min</td>\n",
       "      <td>Documentaries</td>\n",
       "      <td>As her father nears the end of his life, filmm...</td>\n",
       "    </tr>\n",
       "    <tr>\n",
       "      <th>1</th>\n",
       "      <td>s2</td>\n",
       "      <td>TV Show</td>\n",
       "      <td>Blood &amp; Water</td>\n",
       "      <td>NaN</td>\n",
       "      <td>Ama Qamata, Khosi Ngema, Gail Mabalane, Thaban...</td>\n",
       "      <td>South Africa</td>\n",
       "      <td>September 24, 2021</td>\n",
       "      <td>2021</td>\n",
       "      <td>TV-MA</td>\n",
       "      <td>2 Seasons</td>\n",
       "      <td>International TV Shows, TV Dramas, TV Mysteries</td>\n",
       "      <td>After crossing paths at a party, a Cape Town t...</td>\n",
       "    </tr>\n",
       "    <tr>\n",
       "      <th>2</th>\n",
       "      <td>s3</td>\n",
       "      <td>TV Show</td>\n",
       "      <td>Ganglands</td>\n",
       "      <td>Julien Leclercq</td>\n",
       "      <td>Sami Bouajila, Tracy Gotoas, Samuel Jouy, Nabi...</td>\n",
       "      <td>NaN</td>\n",
       "      <td>September 24, 2021</td>\n",
       "      <td>2021</td>\n",
       "      <td>TV-MA</td>\n",
       "      <td>1 Season</td>\n",
       "      <td>Crime TV Shows, International TV Shows, TV Act...</td>\n",
       "      <td>To protect his family from a powerful drug lor...</td>\n",
       "    </tr>\n",
       "    <tr>\n",
       "      <th>3</th>\n",
       "      <td>s4</td>\n",
       "      <td>TV Show</td>\n",
       "      <td>Jailbirds New Orleans</td>\n",
       "      <td>NaN</td>\n",
       "      <td>NaN</td>\n",
       "      <td>NaN</td>\n",
       "      <td>September 24, 2021</td>\n",
       "      <td>2021</td>\n",
       "      <td>TV-MA</td>\n",
       "      <td>1 Season</td>\n",
       "      <td>Docuseries, Reality TV</td>\n",
       "      <td>Feuds, flirtations and toilet talk go down amo...</td>\n",
       "    </tr>\n",
       "    <tr>\n",
       "      <th>4</th>\n",
       "      <td>s5</td>\n",
       "      <td>TV Show</td>\n",
       "      <td>Kota Factory</td>\n",
       "      <td>NaN</td>\n",
       "      <td>Mayur More, Jitendra Kumar, Ranjan Raj, Alam K...</td>\n",
       "      <td>India</td>\n",
       "      <td>September 24, 2021</td>\n",
       "      <td>2021</td>\n",
       "      <td>TV-MA</td>\n",
       "      <td>2 Seasons</td>\n",
       "      <td>International TV Shows, Romantic TV Shows, TV ...</td>\n",
       "      <td>In a city of coaching centers known to train I...</td>\n",
       "    </tr>\n",
       "  </tbody>\n",
       "</table>\n",
       "</div>"
      ],
      "text/plain": [
       "  show_id     type                  title         director  \\\n",
       "0      s1    Movie   Dick Johnson Is Dead  Kirsten Johnson   \n",
       "1      s2  TV Show          Blood & Water              NaN   \n",
       "2      s3  TV Show              Ganglands  Julien Leclercq   \n",
       "3      s4  TV Show  Jailbirds New Orleans              NaN   \n",
       "4      s5  TV Show           Kota Factory              NaN   \n",
       "\n",
       "                                                cast        country  \\\n",
       "0                                                NaN  United States   \n",
       "1  Ama Qamata, Khosi Ngema, Gail Mabalane, Thaban...   South Africa   \n",
       "2  Sami Bouajila, Tracy Gotoas, Samuel Jouy, Nabi...            NaN   \n",
       "3                                                NaN            NaN   \n",
       "4  Mayur More, Jitendra Kumar, Ranjan Raj, Alam K...          India   \n",
       "\n",
       "           date_added  release_year rating   duration  \\\n",
       "0  September 25, 2021          2020  PG-13     90 min   \n",
       "1  September 24, 2021          2021  TV-MA  2 Seasons   \n",
       "2  September 24, 2021          2021  TV-MA   1 Season   \n",
       "3  September 24, 2021          2021  TV-MA   1 Season   \n",
       "4  September 24, 2021          2021  TV-MA  2 Seasons   \n",
       "\n",
       "                                           listed_in  \\\n",
       "0                                      Documentaries   \n",
       "1    International TV Shows, TV Dramas, TV Mysteries   \n",
       "2  Crime TV Shows, International TV Shows, TV Act...   \n",
       "3                             Docuseries, Reality TV   \n",
       "4  International TV Shows, Romantic TV Shows, TV ...   \n",
       "\n",
       "                                         description  \n",
       "0  As her father nears the end of his life, filmm...  \n",
       "1  After crossing paths at a party, a Cape Town t...  \n",
       "2  To protect his family from a powerful drug lor...  \n",
       "3  Feuds, flirtations and toilet talk go down amo...  \n",
       "4  In a city of coaching centers known to train I...  "
      ]
     },
     "execution_count": 4,
     "metadata": {},
     "output_type": "execute_result"
    }
   ],
   "source": [
    "df.head()"
   ]
  },
  {
   "cell_type": "code",
   "execution_count": 5,
   "id": "e6e2fc4a",
   "metadata": {
    "scrolled": true
   },
   "outputs": [
    {
     "name": "stdout",
     "output_type": "stream",
     "text": [
      "<class 'pandas.core.frame.DataFrame'>\n",
      "RangeIndex: 8807 entries, 0 to 8806\n",
      "Data columns (total 12 columns):\n",
      " #   Column        Non-Null Count  Dtype \n",
      "---  ------        --------------  ----- \n",
      " 0   show_id       8807 non-null   object\n",
      " 1   type          8807 non-null   object\n",
      " 2   title         8807 non-null   object\n",
      " 3   director      6173 non-null   object\n",
      " 4   cast          7982 non-null   object\n",
      " 5   country       7976 non-null   object\n",
      " 6   date_added    8797 non-null   object\n",
      " 7   release_year  8807 non-null   int64 \n",
      " 8   rating        8803 non-null   object\n",
      " 9   duration      8804 non-null   object\n",
      " 10  listed_in     8807 non-null   object\n",
      " 11  description   8807 non-null   object\n",
      "dtypes: int64(1), object(11)\n",
      "memory usage: 825.8+ KB\n"
     ]
    }
   ],
   "source": [
    "df.info()"
   ]
  },
  {
   "cell_type": "code",
   "execution_count": 6,
   "id": "f84d6688",
   "metadata": {},
   "outputs": [
    {
     "data": {
      "text/plain": [
       "show_id            0\n",
       "type               0\n",
       "title              0\n",
       "director        2634\n",
       "cast             825\n",
       "country          831\n",
       "date_added        10\n",
       "release_year       0\n",
       "rating             4\n",
       "duration           3\n",
       "listed_in          0\n",
       "description        0\n",
       "dtype: int64"
      ]
     },
     "execution_count": 6,
     "metadata": {},
     "output_type": "execute_result"
    }
   ],
   "source": [
    "df.isnull().sum()"
   ]
  },
  {
   "cell_type": "code",
   "execution_count": 7,
   "id": "a02aa517",
   "metadata": {},
   "outputs": [
    {
     "data": {
      "text/plain": [
       "0"
      ]
     },
     "execution_count": 7,
     "metadata": {},
     "output_type": "execute_result"
    }
   ],
   "source": [
    "df.duplicated().sum()"
   ]
  },
  {
   "cell_type": "markdown",
   "id": "e465700e",
   "metadata": {},
   "source": [
    "<font size=\"3.5\">We can see that there are 12 columns. According to the dataset information:<font>\n",
    "\n",
    "- <font size=\"3.5\">**show_id**: Unique ID for every movie / TV show<font>\n",
    "- <font size=\"3.5\">**type**: Identifier (movie or TV show)<font>\n",
    "- <font size=\"3.5\">**title**: Title<font>\n",
    "- <font size=\"3.5\">**director**: Director<font>\n",
    "- <font size=\"3.5\">**cast**: Actors involved<font>\n",
    "- <font size=\"3.5\">**country**: Country where the movie / TV show was produced<font>\n",
    "- <font size=\"3.5\">**data_added**: Date it was added on Netflix<font>\n",
    "- <font size=\"3.5\">**release_year**: Actual release year<font>\n",
    "- <font size=\"3.5\">**rating**: TV rating<font>\n",
    "- <font size=\"3.5\">**duration**: Total duration in minutes or number of seasons<font>\n",
    "- <font size=\"3.5\">**listed_in**: Genre of the movie / TV show<font>\n",
    "- <font size=\"3.5\">**description**: The summary description<font>\n",
    "\n",
    "<font size=\"3.5\">Also we can see that we have null values in a few columns, but there are no duplicated rows. Let's take a closer look of each column:<font>"
   ]
  },
  {
   "cell_type": "markdown",
   "id": "b1449b05",
   "metadata": {},
   "source": [
    "<font size=\"4\">**type:**</font>\n",
    "\n",
    "   <font size=\"3.5\">We can observe that this column doesn't have null values, but we are going to make sure that there are only two different values: Movie or TV Show.</font>"
   ]
  },
  {
   "cell_type": "code",
   "execution_count": 8,
   "id": "05dc9ef6",
   "metadata": {},
   "outputs": [
    {
     "data": {
      "text/plain": [
       "array(['Movie', 'TV Show'], dtype=object)"
      ]
     },
     "execution_count": 8,
     "metadata": {},
     "output_type": "execute_result"
    }
   ],
   "source": [
    "df['type'].unique()"
   ]
  },
  {
   "cell_type": "markdown",
   "id": "9b9f8854",
   "metadata": {},
   "source": [
    "<font size=\"4\">**rating:**</font>\n",
    "\n",
    "   <font size=\"3.5\">First we are going to analyze what are the values of rating that appears in the dataset.<font>"
   ]
  },
  {
   "cell_type": "code",
   "execution_count": 9,
   "id": "1535d33e",
   "metadata": {},
   "outputs": [
    {
     "data": {
      "text/plain": [
       "array(['PG-13', 'TV-MA', 'PG', 'TV-14', 'TV-PG', 'TV-Y', 'TV-Y7', 'R',\n",
       "       'TV-G', 'G', 'NC-17', '74 min', '84 min', '66 min', 'NR', nan,\n",
       "       'TV-Y7-FV', 'UR'], dtype=object)"
      ]
     },
     "execution_count": 9,
     "metadata": {},
     "output_type": "execute_result"
    }
   ],
   "source": [
    "df['rating'].unique()"
   ]
  },
  {
   "cell_type": "markdown",
   "id": "2ff32dd8",
   "metadata": {},
   "source": [
    "<font size=\"3.5\">We see that there are 3 values that appear to correspond to the duration of the film/TV show instead of being a rating. We are going to select these three rows to check if the values of the duration column are null values.<font>"
   ]
  },
  {
   "cell_type": "code",
   "execution_count": 10,
   "id": "e360254f",
   "metadata": {},
   "outputs": [
    {
     "data": {
      "text/html": [
       "<div>\n",
       "<style scoped>\n",
       "    .dataframe tbody tr th:only-of-type {\n",
       "        vertical-align: middle;\n",
       "    }\n",
       "\n",
       "    .dataframe tbody tr th {\n",
       "        vertical-align: top;\n",
       "    }\n",
       "\n",
       "    .dataframe thead th {\n",
       "        text-align: right;\n",
       "    }\n",
       "</style>\n",
       "<table border=\"1\" class=\"dataframe\">\n",
       "  <thead>\n",
       "    <tr style=\"text-align: right;\">\n",
       "      <th></th>\n",
       "      <th>show_id</th>\n",
       "      <th>type</th>\n",
       "      <th>title</th>\n",
       "      <th>director</th>\n",
       "      <th>cast</th>\n",
       "      <th>country</th>\n",
       "      <th>date_added</th>\n",
       "      <th>release_year</th>\n",
       "      <th>rating</th>\n",
       "      <th>duration</th>\n",
       "      <th>listed_in</th>\n",
       "      <th>description</th>\n",
       "    </tr>\n",
       "  </thead>\n",
       "  <tbody>\n",
       "    <tr>\n",
       "      <th>5541</th>\n",
       "      <td>s5542</td>\n",
       "      <td>Movie</td>\n",
       "      <td>Louis C.K. 2017</td>\n",
       "      <td>Louis C.K.</td>\n",
       "      <td>Louis C.K.</td>\n",
       "      <td>United States</td>\n",
       "      <td>April 4, 2017</td>\n",
       "      <td>2017</td>\n",
       "      <td>74 min</td>\n",
       "      <td>NaN</td>\n",
       "      <td>Movies</td>\n",
       "      <td>Louis C.K. muses on religion, eternal love, gi...</td>\n",
       "    </tr>\n",
       "    <tr>\n",
       "      <th>5794</th>\n",
       "      <td>s5795</td>\n",
       "      <td>Movie</td>\n",
       "      <td>Louis C.K.: Hilarious</td>\n",
       "      <td>Louis C.K.</td>\n",
       "      <td>Louis C.K.</td>\n",
       "      <td>United States</td>\n",
       "      <td>September 16, 2016</td>\n",
       "      <td>2010</td>\n",
       "      <td>84 min</td>\n",
       "      <td>NaN</td>\n",
       "      <td>Movies</td>\n",
       "      <td>Emmy-winning comedy writer Louis C.K. brings h...</td>\n",
       "    </tr>\n",
       "    <tr>\n",
       "      <th>5813</th>\n",
       "      <td>s5814</td>\n",
       "      <td>Movie</td>\n",
       "      <td>Louis C.K.: Live at the Comedy Store</td>\n",
       "      <td>Louis C.K.</td>\n",
       "      <td>Louis C.K.</td>\n",
       "      <td>United States</td>\n",
       "      <td>August 15, 2016</td>\n",
       "      <td>2015</td>\n",
       "      <td>66 min</td>\n",
       "      <td>NaN</td>\n",
       "      <td>Movies</td>\n",
       "      <td>The comic puts his trademark hilarious/thought...</td>\n",
       "    </tr>\n",
       "  </tbody>\n",
       "</table>\n",
       "</div>"
      ],
      "text/plain": [
       "     show_id   type                                 title    director  \\\n",
       "5541   s5542  Movie                       Louis C.K. 2017  Louis C.K.   \n",
       "5794   s5795  Movie                 Louis C.K.: Hilarious  Louis C.K.   \n",
       "5813   s5814  Movie  Louis C.K.: Live at the Comedy Store  Louis C.K.   \n",
       "\n",
       "            cast        country          date_added  release_year  rating  \\\n",
       "5541  Louis C.K.  United States       April 4, 2017          2017  74 min   \n",
       "5794  Louis C.K.  United States  September 16, 2016          2010  84 min   \n",
       "5813  Louis C.K.  United States     August 15, 2016          2015  66 min   \n",
       "\n",
       "     duration listed_in                                        description  \n",
       "5541      NaN    Movies  Louis C.K. muses on religion, eternal love, gi...  \n",
       "5794      NaN    Movies  Emmy-winning comedy writer Louis C.K. brings h...  \n",
       "5813      NaN    Movies  The comic puts his trademark hilarious/thought...  "
      ]
     },
     "execution_count": 10,
     "metadata": {},
     "output_type": "execute_result"
    }
   ],
   "source": [
    "df.loc[(df['rating'] == '74 min')|(df['rating'] == '84 min')|(df['rating'] == '66 min')]"
   ]
  },
  {
   "cell_type": "markdown",
   "id": "145b728d",
   "metadata": {},
   "source": [
    "<font size=\"3.5\">We are going to move those values from rating column to duration column and fill the ones of the rating column as NR (no rated).<font>"
   ]
  },
  {
   "cell_type": "code",
   "execution_count": 11,
   "id": "d32dd1b0",
   "metadata": {},
   "outputs": [],
   "source": [
    "x = ['74 min', '84 min', '66 min']\n",
    "for n in x:\n",
    "    df.loc[ df['rating'] == n, 'duration'] = n\n",
    "    df.loc[ df['rating'] == n, 'rating'] = 'NR'\n",
    "        "
   ]
  },
  {
   "cell_type": "code",
   "execution_count": 12,
   "id": "98be54e3",
   "metadata": {},
   "outputs": [
    {
     "data": {
      "text/html": [
       "<div>\n",
       "<style scoped>\n",
       "    .dataframe tbody tr th:only-of-type {\n",
       "        vertical-align: middle;\n",
       "    }\n",
       "\n",
       "    .dataframe tbody tr th {\n",
       "        vertical-align: top;\n",
       "    }\n",
       "\n",
       "    .dataframe thead th {\n",
       "        text-align: right;\n",
       "    }\n",
       "</style>\n",
       "<table border=\"1\" class=\"dataframe\">\n",
       "  <thead>\n",
       "    <tr style=\"text-align: right;\">\n",
       "      <th></th>\n",
       "      <th>show_id</th>\n",
       "      <th>type</th>\n",
       "      <th>title</th>\n",
       "      <th>director</th>\n",
       "      <th>cast</th>\n",
       "      <th>country</th>\n",
       "      <th>date_added</th>\n",
       "      <th>release_year</th>\n",
       "      <th>rating</th>\n",
       "      <th>duration</th>\n",
       "      <th>listed_in</th>\n",
       "      <th>description</th>\n",
       "    </tr>\n",
       "  </thead>\n",
       "  <tbody>\n",
       "    <tr>\n",
       "      <th>5541</th>\n",
       "      <td>s5542</td>\n",
       "      <td>Movie</td>\n",
       "      <td>Louis C.K. 2017</td>\n",
       "      <td>Louis C.K.</td>\n",
       "      <td>Louis C.K.</td>\n",
       "      <td>United States</td>\n",
       "      <td>April 4, 2017</td>\n",
       "      <td>2017</td>\n",
       "      <td>NR</td>\n",
       "      <td>74 min</td>\n",
       "      <td>Movies</td>\n",
       "      <td>Louis C.K. muses on religion, eternal love, gi...</td>\n",
       "    </tr>\n",
       "    <tr>\n",
       "      <th>5794</th>\n",
       "      <td>s5795</td>\n",
       "      <td>Movie</td>\n",
       "      <td>Louis C.K.: Hilarious</td>\n",
       "      <td>Louis C.K.</td>\n",
       "      <td>Louis C.K.</td>\n",
       "      <td>United States</td>\n",
       "      <td>September 16, 2016</td>\n",
       "      <td>2010</td>\n",
       "      <td>NR</td>\n",
       "      <td>84 min</td>\n",
       "      <td>Movies</td>\n",
       "      <td>Emmy-winning comedy writer Louis C.K. brings h...</td>\n",
       "    </tr>\n",
       "    <tr>\n",
       "      <th>5813</th>\n",
       "      <td>s5814</td>\n",
       "      <td>Movie</td>\n",
       "      <td>Louis C.K.: Live at the Comedy Store</td>\n",
       "      <td>Louis C.K.</td>\n",
       "      <td>Louis C.K.</td>\n",
       "      <td>United States</td>\n",
       "      <td>August 15, 2016</td>\n",
       "      <td>2015</td>\n",
       "      <td>NR</td>\n",
       "      <td>66 min</td>\n",
       "      <td>Movies</td>\n",
       "      <td>The comic puts his trademark hilarious/thought...</td>\n",
       "    </tr>\n",
       "  </tbody>\n",
       "</table>\n",
       "</div>"
      ],
      "text/plain": [
       "     show_id   type                                 title    director  \\\n",
       "5541   s5542  Movie                       Louis C.K. 2017  Louis C.K.   \n",
       "5794   s5795  Movie                 Louis C.K.: Hilarious  Louis C.K.   \n",
       "5813   s5814  Movie  Louis C.K.: Live at the Comedy Store  Louis C.K.   \n",
       "\n",
       "            cast        country          date_added  release_year rating  \\\n",
       "5541  Louis C.K.  United States       April 4, 2017          2017     NR   \n",
       "5794  Louis C.K.  United States  September 16, 2016          2010     NR   \n",
       "5813  Louis C.K.  United States     August 15, 2016          2015     NR   \n",
       "\n",
       "     duration listed_in                                        description  \n",
       "5541   74 min    Movies  Louis C.K. muses on religion, eternal love, gi...  \n",
       "5794   84 min    Movies  Emmy-winning comedy writer Louis C.K. brings h...  \n",
       "5813   66 min    Movies  The comic puts his trademark hilarious/thought...  "
      ]
     },
     "execution_count": 12,
     "metadata": {},
     "output_type": "execute_result"
    }
   ],
   "source": [
    "df.loc[[5541, 5794, 5813]]"
   ]
  },
  {
   "cell_type": "code",
   "execution_count": 13,
   "id": "a3e82088",
   "metadata": {},
   "outputs": [
    {
     "data": {
      "text/plain": [
       "show_id            0\n",
       "type               0\n",
       "title              0\n",
       "director        2634\n",
       "cast             825\n",
       "country          831\n",
       "date_added        10\n",
       "release_year       0\n",
       "rating             4\n",
       "duration           0\n",
       "listed_in          0\n",
       "description        0\n",
       "dtype: int64"
      ]
     },
     "execution_count": 13,
     "metadata": {},
     "output_type": "execute_result"
    }
   ],
   "source": [
    "df.isnull().sum()"
   ]
  },
  {
   "cell_type": "markdown",
   "id": "9e57f5c7",
   "metadata": {},
   "source": [
    "<font size=\"3.5\">Refering to the rating column again, we can find the description of the different rating values on the Netflix website. There we can observe that NR (no rated) and UR (unrated) means the same. So we are going to replace UR and nan values with NR.<font>"
   ]
  },
  {
   "cell_type": "code",
   "execution_count": 14,
   "id": "f613dcc5",
   "metadata": {},
   "outputs": [],
   "source": [
    "df['rating'].replace(['UR', np.nan], 'NR', inplace = True)"
   ]
  },
  {
   "cell_type": "code",
   "execution_count": 15,
   "id": "26d9e009",
   "metadata": {},
   "outputs": [
    {
     "data": {
      "text/plain": [
       "array(['PG-13', 'TV-MA', 'PG', 'TV-14', 'TV-PG', 'TV-Y', 'TV-Y7', 'R',\n",
       "       'TV-G', 'G', 'NC-17', 'NR', 'TV-Y7-FV'], dtype=object)"
      ]
     },
     "execution_count": 15,
     "metadata": {},
     "output_type": "execute_result"
    }
   ],
   "source": [
    "df['rating'].unique()"
   ]
  },
  {
   "cell_type": "markdown",
   "id": "aa1123e1",
   "metadata": {},
   "source": [
    "<font size=\"4\">**diration:**</font>\n",
    "\n",
    "   <font size=\"3.5\">After we replace the values we shouldn't have nan values anymore. Let's check that out.<font>"
   ]
  },
  {
   "cell_type": "code",
   "execution_count": 16,
   "id": "42ffd492",
   "metadata": {},
   "outputs": [
    {
     "data": {
      "text/plain": [
       "0"
      ]
     },
     "execution_count": 16,
     "metadata": {},
     "output_type": "execute_result"
    }
   ],
   "source": [
    "df['duration'].isnull().sum()"
   ]
  },
  {
   "cell_type": "markdown",
   "id": "5ccc4dd6",
   "metadata": {},
   "source": [
    "<font size=\"3.5\">Later, we are going to analyze this column values in depth."
   ]
  },
  {
   "cell_type": "markdown",
   "id": "e6409e94",
   "metadata": {},
   "source": [
    "<font size=\"4\">**release_year:**\n",
    "\n",
    "   <font size=\"3.5\">In this column we're going to check if all the values correspond to years values."
   ]
  },
  {
   "cell_type": "code",
   "execution_count": 17,
   "id": "7ec76950",
   "metadata": {},
   "outputs": [
    {
     "data": {
      "text/plain": [
       "array([2020, 2021, 1993, 2018, 1996, 1998, 1997, 2010, 2013, 2017, 1975,\n",
       "       1978, 1983, 1987, 2012, 2001, 2014, 2002, 2003, 2004, 2011, 2008,\n",
       "       2009, 2007, 2005, 2006, 1994, 2015, 2019, 2016, 1982, 1989, 1990,\n",
       "       1991, 1999, 1986, 1992, 1984, 1980, 1961, 2000, 1995, 1985, 1976,\n",
       "       1959, 1988, 1981, 1972, 1964, 1945, 1954, 1979, 1958, 1956, 1963,\n",
       "       1970, 1973, 1925, 1974, 1960, 1966, 1971, 1962, 1969, 1977, 1967,\n",
       "       1968, 1965, 1946, 1942, 1955, 1944, 1947, 1943])"
      ]
     },
     "execution_count": 17,
     "metadata": {},
     "output_type": "execute_result"
    }
   ],
   "source": [
    "df['release_year'].unique()"
   ]
  },
  {
   "cell_type": "code",
   "execution_count": 18,
   "id": "ac56d460",
   "metadata": {},
   "outputs": [
    {
     "name": "stdout",
     "output_type": "stream",
     "text": [
      "min year: 1925 max year: 2021\n"
     ]
    }
   ],
   "source": [
    "print('min year:', df['release_year'].min(), 'max year:', df['release_year'].max())"
   ]
  },
  {
   "cell_type": "markdown",
   "id": "7b87b7c1",
   "metadata": {},
   "source": [
    "<font size=\"4\">**date_added:**\n",
    "\n",
    "   <font size=\"3.5\">First, we are going to change the format of the values on the column. We know that the values are written as 'September 21,2021', so we need to transform it to a date format."
   ]
  },
  {
   "cell_type": "code",
   "execution_count": 19,
   "id": "6b092f60",
   "metadata": {
    "scrolled": true
   },
   "outputs": [
    {
     "data": {
      "text/plain": [
       "0       September 25, 2021\n",
       "1       September 24, 2021\n",
       "2       September 24, 2021\n",
       "3       September 24, 2021\n",
       "4       September 24, 2021\n",
       "               ...        \n",
       "8802     November 20, 2019\n",
       "8803          July 1, 2019\n",
       "8804      November 1, 2019\n",
       "8805      January 11, 2020\n",
       "8806         March 2, 2019\n",
       "Name: date_added, Length: 8797, dtype: object"
      ]
     },
     "execution_count": 19,
     "metadata": {},
     "output_type": "execute_result"
    }
   ],
   "source": [
    "df.loc[df['date_added'].isnull() == False]['date_added']"
   ]
  },
  {
   "cell_type": "code",
   "execution_count": 20,
   "id": "9c66ef76",
   "metadata": {},
   "outputs": [],
   "source": [
    "df['date_added'] = df['date_added'].str.replace(' ', '')"
   ]
  },
  {
   "cell_type": "code",
   "execution_count": 21,
   "id": "7f46a4cd",
   "metadata": {
    "scrolled": true
   },
   "outputs": [],
   "source": [
    "df['date_added'] = pd.to_datetime(df.loc[df['date_added'].isnull() == False]['date_added'], format = '%B%d,%Y')"
   ]
  },
  {
   "cell_type": "code",
   "execution_count": 22,
   "id": "978715de",
   "metadata": {},
   "outputs": [
    {
     "name": "stdout",
     "output_type": "stream",
     "text": [
      "<class 'pandas.core.frame.DataFrame'>\n",
      "RangeIndex: 8807 entries, 0 to 8806\n",
      "Data columns (total 12 columns):\n",
      " #   Column        Non-Null Count  Dtype         \n",
      "---  ------        --------------  -----         \n",
      " 0   show_id       8807 non-null   object        \n",
      " 1   type          8807 non-null   object        \n",
      " 2   title         8807 non-null   object        \n",
      " 3   director      6173 non-null   object        \n",
      " 4   cast          7982 non-null   object        \n",
      " 5   country       7976 non-null   object        \n",
      " 6   date_added    8797 non-null   datetime64[ns]\n",
      " 7   release_year  8807 non-null   int64         \n",
      " 8   rating        8807 non-null   object        \n",
      " 9   duration      8807 non-null   object        \n",
      " 10  listed_in     8807 non-null   object        \n",
      " 11  description   8807 non-null   object        \n",
      "dtypes: datetime64[ns](1), int64(1), object(10)\n",
      "memory usage: 825.8+ KB\n"
     ]
    }
   ],
   "source": [
    "df.info()"
   ]
  },
  {
   "cell_type": "markdown",
   "id": "3d204750",
   "metadata": {},
   "source": [
    "<font size=\"4\">**director, cast and country:**\n",
    "    \n",
    "<font size=\"3.5\"> With this 3 columns we have 3 options. Option 1 is to drop all null values, option 2 is to replace the null values (in this case we can replace them with unkown) and the third option is research and try to find that missing values (because in this case we know that these missing values are because the information is incomplete and not because the value doesn't exist). You can find another dataset with movie/TV show title, cast, director and country or try to scrap a web to optain that information. For this case, I'm going to replace those null values with unknown, but this decision should be made taking into account the goals set at the beggining."
   ]
  },
  {
   "cell_type": "code",
   "execution_count": 23,
   "id": "8c1b44a4",
   "metadata": {},
   "outputs": [],
   "source": [
    "df['director'] = df['director'].fillna('Unknown')\n",
    "df['cast'] = df['cast'].fillna('Unknown')\n",
    "df['country'] = df['country']. fillna('Unknown')"
   ]
  },
  {
   "cell_type": "markdown",
   "id": "148c7eae",
   "metadata": {},
   "source": [
    "<font size=\"4\">**description:**\n",
    "\n",
    "   <font size=\"3.5\">We are going to drop this column because we are not going to need it."
   ]
  },
  {
   "cell_type": "code",
   "execution_count": 24,
   "id": "299e50d0",
   "metadata": {},
   "outputs": [],
   "source": [
    "df.drop('description', axis = 1, inplace = True)"
   ]
  },
  {
   "cell_type": "markdown",
   "id": "b69ee670",
   "metadata": {},
   "source": [
    "<font size=\"4\">**listed_in:**\n",
    "\n",
    "   <font size=\"3.5\">For now, we are going to change the column name to genre."
   ]
  },
  {
   "cell_type": "code",
   "execution_count": 25,
   "id": "a4e195cd",
   "metadata": {},
   "outputs": [],
   "source": [
    "df = df.rename(columns={'listed_in': 'genre'})"
   ]
  },
  {
   "cell_type": "code",
   "execution_count": 26,
   "id": "6dbbab02",
   "metadata": {},
   "outputs": [
    {
     "name": "stdout",
     "output_type": "stream",
     "text": [
      "<class 'pandas.core.frame.DataFrame'>\n",
      "RangeIndex: 8807 entries, 0 to 8806\n",
      "Data columns (total 11 columns):\n",
      " #   Column        Non-Null Count  Dtype         \n",
      "---  ------        --------------  -----         \n",
      " 0   show_id       8807 non-null   object        \n",
      " 1   type          8807 non-null   object        \n",
      " 2   title         8807 non-null   object        \n",
      " 3   director      8807 non-null   object        \n",
      " 4   cast          8807 non-null   object        \n",
      " 5   country       8807 non-null   object        \n",
      " 6   date_added    8797 non-null   datetime64[ns]\n",
      " 7   release_year  8807 non-null   int64         \n",
      " 8   rating        8807 non-null   object        \n",
      " 9   duration      8807 non-null   object        \n",
      " 10  genre         8807 non-null   object        \n",
      "dtypes: datetime64[ns](1), int64(1), object(9)\n",
      "memory usage: 757.0+ KB\n"
     ]
    }
   ],
   "source": [
    "df.info()"
   ]
  },
  {
   "cell_type": "markdown",
   "id": "5877a5ef",
   "metadata": {},
   "source": [
    "<font size=\"3.5\">Now that we have cleaned our data, we can start answering our questions."
   ]
  },
  {
   "cell_type": "markdown",
   "id": "e5e4a5c7",
   "metadata": {},
   "source": [
    "**1 - <font size=\"3.5\">TV shows vs movies:** \n",
    "    \n",
    "<font size=\"3.5\">First we are going to answer the most simple question: <font size=\"3.5\">**There are more TV shows or more Movies on the Netflix platform?**</font>"
   ]
  },
  {
   "cell_type": "code",
   "execution_count": 27,
   "id": "f6e1669a",
   "metadata": {},
   "outputs": [
    {
     "data": {
      "text/plain": [
       "Movie      6131\n",
       "TV Show    2676\n",
       "Name: type, dtype: int64"
      ]
     },
     "execution_count": 27,
     "metadata": {},
     "output_type": "execute_result"
    }
   ],
   "source": [
    "df['type'].value_counts()"
   ]
  },
  {
   "cell_type": "code",
   "execution_count": 28,
   "id": "1e6438b8",
   "metadata": {},
   "outputs": [],
   "source": [
    "TV_shows = df.loc[df['type'] == 'TV Show']\n",
    "movies = df.loc[df['type'] == 'Movie']"
   ]
  },
  {
   "cell_type": "code",
   "execution_count": 29,
   "id": "ba66baf7",
   "metadata": {},
   "outputs": [
    {
     "name": "stdout",
     "output_type": "stream",
     "text": [
      "proportion TV_shows: 0.3038492108550017 proportion movies: 0.6961507891449983\n"
     ]
    }
   ],
   "source": [
    "print('proportion TV_shows:' ,(TV_shows['type'].count()/df['type'].count()), 'proportion movies:' ,(movies['type'].count()/df['type'].count()))"
   ]
  },
  {
   "cell_type": "code",
   "execution_count": 30,
   "id": "f80d32df",
   "metadata": {},
   "outputs": [
    {
     "data": {
      "text/plain": [
       "<matplotlib.legend.Legend at 0x7f69ff1a57b0>"
      ]
     },
     "execution_count": 30,
     "metadata": {},
     "output_type": "execute_result"
    },
    {
     "data": {
      "image/png": "[encoded data removed]",
      "text/plain": [
       "<Figure size 600x600 with 1 Axes>"
      ]
     },
     "metadata": {},
     "output_type": "display_data"
    }
   ],
   "source": [
    "fig, ax = plt.subplots(figsize = (6,6))\n",
    "plt.pie(df['type'].value_counts(), data = df, colors = ['red', 'dimgrey'], autopct = '%1.2f%%', pctdistance = 0.5, textprops={'color':\"w\", 'fontsize': 12})\n",
    "ax.set_title('Movies / TV Shows')\n",
    "ax.legend(['Movies', 'TV Shows'])"
   ]
  },
  {
   "cell_type": "markdown",
   "id": "8997c899",
   "metadata": {},
   "source": [
    "<font size=\"3.5\">So, the biggest proportion of content programmes are movies with a 69,62%."
   ]
  },
  {
   "cell_type": "markdown",
   "id": "7a088170",
   "metadata": {},
   "source": [
    "**2 - <font size=\"3.5\">What was the shortest movie? and the longest? What is the TV show with the most seasons?**"
   ]
  },
  {
   "cell_type": "markdown",
   "id": "b0b59645",
   "metadata": {},
   "source": [
    "<font size=\"3.5\">First we are going to analyze movies duration. Let's graph the values:"
   ]
  },
  {
   "cell_type": "code",
   "execution_count": 31,
   "id": "8529250e",
   "metadata": {},
   "outputs": [
    {
     "name": "stderr",
     "output_type": "stream",
     "text": [
      "/tmp/ipykernel_8817/337897013.py:1: SettingWithCopyWarning: \n",
      "A value is trying to be set on a copy of a slice from a DataFrame.\n",
      "Try using .loc[row_indexer,col_indexer] = value instead\n",
      "\n",
      "See the caveats in the documentation: https://pandas.pydata.org/pandas-docs/stable/user_guide/indexing.html#returning-a-view-versus-a-copy\n",
      "  movies['duration'] = movies['duration'].str.split().str[0]\n",
      "/tmp/ipykernel_8817/337897013.py:2: SettingWithCopyWarning: \n",
      "A value is trying to be set on a copy of a slice from a DataFrame.\n",
      "Try using .loc[row_indexer,col_indexer] = value instead\n",
      "\n",
      "See the caveats in the documentation: https://pandas.pydata.org/pandas-docs/stable/user_guide/indexing.html#returning-a-view-versus-a-copy\n",
      "  movies['duration'] = movies['duration'].astype(int)\n"
     ]
    }
   ],
   "source": [
    "movies['duration'] = movies['duration'].str.split().str[0]\n",
    "movies['duration'] = movies['duration'].astype(int)"
   ]
  },
  {
   "cell_type": "code",
   "execution_count": 32,
   "id": "a23a46e6",
   "metadata": {},
   "outputs": [],
   "source": [
    "movies = movies.rename(columns={'duration': 'duration_min'})"
   ]
  },
  {
   "cell_type": "code",
   "execution_count": 33,
   "id": "acf2cd58",
   "metadata": {},
   "outputs": [
    {
     "data": {
      "text/plain": [
       "count    6131.000000\n",
       "mean       99.564998\n",
       "std        28.289504\n",
       "min         3.000000\n",
       "25%        87.000000\n",
       "50%        98.000000\n",
       "75%       114.000000\n",
       "max       312.000000\n",
       "Name: duration_min, dtype: float64"
      ]
     },
     "execution_count": 33,
     "metadata": {},
     "output_type": "execute_result"
    }
   ],
   "source": [
    "movies['duration_min'].describe()"
   ]
  },
  {
   "cell_type": "code",
   "execution_count": 34,
   "id": "83c342db",
   "metadata": {},
   "outputs": [
    {
     "data": {
      "text/plain": [
       "<AxesSubplot: xlabel='Count', ylabel='duration_min'>"
      ]
     },
     "execution_count": 34,
     "metadata": {},
     "output_type": "execute_result"
    },
    {
     "data": {
      "image/png": "[encoded data removed]",
      "text/plain": [
       "<Figure size 1500x500 with 2 Axes>"
      ]
     },
     "metadata": {},
     "output_type": "display_data"
    }
   ],
   "source": [
    "fig1, (ax1, ax2) = plt.subplots(1,2, figsize=(15, 5), sharey = True)\n",
    "sns.boxplot(movies['duration_min'], ax = ax1)\n",
    "sns.histplot(y = movies['duration_min'], ax = ax2)"
   ]
  },
  {
   "cell_type": "markdown",
   "id": "b1b4e25c",
   "metadata": {},
   "source": [
    "<font size=\"3.5\">We see a lot of outliers, but here it doesn't means that those values are wrong. We can find what is the most long and most short movie and check if that information is correct."
   ]
  },
  {
   "cell_type": "code",
   "execution_count": 35,
   "id": "49fd4082",
   "metadata": {},
   "outputs": [
    {
     "data": {
      "text/html": [
       "<div>\n",
       "<style scoped>\n",
       "    .dataframe tbody tr th:only-of-type {\n",
       "        vertical-align: middle;\n",
       "    }\n",
       "\n",
       "    .dataframe tbody tr th {\n",
       "        vertical-align: top;\n",
       "    }\n",
       "\n",
       "    .dataframe thead th {\n",
       "        text-align: right;\n",
       "    }\n",
       "</style>\n",
       "<table border=\"1\" class=\"dataframe\">\n",
       "  <thead>\n",
       "    <tr style=\"text-align: right;\">\n",
       "      <th></th>\n",
       "      <th>show_id</th>\n",
       "      <th>type</th>\n",
       "      <th>title</th>\n",
       "      <th>director</th>\n",
       "      <th>cast</th>\n",
       "      <th>country</th>\n",
       "      <th>date_added</th>\n",
       "      <th>release_year</th>\n",
       "      <th>rating</th>\n",
       "      <th>duration_min</th>\n",
       "      <th>genre</th>\n",
       "    </tr>\n",
       "  </thead>\n",
       "  <tbody>\n",
       "    <tr>\n",
       "      <th>3777</th>\n",
       "      <td>s3778</td>\n",
       "      <td>Movie</td>\n",
       "      <td>Silent</td>\n",
       "      <td>Limbert Fabian, Brandon Oldenburg</td>\n",
       "      <td>Unknown</td>\n",
       "      <td>United States</td>\n",
       "      <td>2019-06-04</td>\n",
       "      <td>2014</td>\n",
       "      <td>TV-Y</td>\n",
       "      <td>3</td>\n",
       "      <td>Children &amp; Family Movies, Sci-Fi &amp; Fantasy</td>\n",
       "    </tr>\n",
       "  </tbody>\n",
       "</table>\n",
       "</div>"
      ],
      "text/plain": [
       "     show_id   type   title                           director     cast  \\\n",
       "3777   s3778  Movie  Silent  Limbert Fabian, Brandon Oldenburg  Unknown   \n",
       "\n",
       "            country date_added  release_year rating  duration_min  \\\n",
       "3777  United States 2019-06-04          2014   TV-Y             3   \n",
       "\n",
       "                                           genre  \n",
       "3777  Children & Family Movies, Sci-Fi & Fantasy  "
      ]
     },
     "execution_count": 35,
     "metadata": {},
     "output_type": "execute_result"
    }
   ],
   "source": [
    "movies.loc[movies['duration_min'] == movies['duration_min'].min()]"
   ]
  },
  {
   "cell_type": "markdown",
   "id": "a10f507c",
   "metadata": {},
   "source": [
    "<font size=\"3.5\">After googled the movie, its lenght is actually 3 minutes, so the value is correct. Now let's do the same with the longest one."
   ]
  },
  {
   "cell_type": "code",
   "execution_count": 36,
   "id": "bb3de996",
   "metadata": {},
   "outputs": [
    {
     "data": {
      "text/html": [
       "<div>\n",
       "<style scoped>\n",
       "    .dataframe tbody tr th:only-of-type {\n",
       "        vertical-align: middle;\n",
       "    }\n",
       "\n",
       "    .dataframe tbody tr th {\n",
       "        vertical-align: top;\n",
       "    }\n",
       "\n",
       "    .dataframe thead th {\n",
       "        text-align: right;\n",
       "    }\n",
       "</style>\n",
       "<table border=\"1\" class=\"dataframe\">\n",
       "  <thead>\n",
       "    <tr style=\"text-align: right;\">\n",
       "      <th></th>\n",
       "      <th>show_id</th>\n",
       "      <th>type</th>\n",
       "      <th>title</th>\n",
       "      <th>director</th>\n",
       "      <th>cast</th>\n",
       "      <th>country</th>\n",
       "      <th>date_added</th>\n",
       "      <th>release_year</th>\n",
       "      <th>rating</th>\n",
       "      <th>duration_min</th>\n",
       "      <th>genre</th>\n",
       "    </tr>\n",
       "  </thead>\n",
       "  <tbody>\n",
       "    <tr>\n",
       "      <th>4253</th>\n",
       "      <td>s4254</td>\n",
       "      <td>Movie</td>\n",
       "      <td>Black Mirror: Bandersnatch</td>\n",
       "      <td>Unknown</td>\n",
       "      <td>Fionn Whitehead, Will Poulter, Craig Parkinson...</td>\n",
       "      <td>United States</td>\n",
       "      <td>2018-12-28</td>\n",
       "      <td>2018</td>\n",
       "      <td>TV-MA</td>\n",
       "      <td>312</td>\n",
       "      <td>Dramas, International Movies, Sci-Fi &amp; Fantasy</td>\n",
       "    </tr>\n",
       "  </tbody>\n",
       "</table>\n",
       "</div>"
      ],
      "text/plain": [
       "     show_id   type                       title director  \\\n",
       "4253   s4254  Movie  Black Mirror: Bandersnatch  Unknown   \n",
       "\n",
       "                                                   cast        country  \\\n",
       "4253  Fionn Whitehead, Will Poulter, Craig Parkinson...  United States   \n",
       "\n",
       "     date_added  release_year rating  duration_min  \\\n",
       "4253 2018-12-28          2018  TV-MA           312   \n",
       "\n",
       "                                               genre  \n",
       "4253  Dramas, International Movies, Sci-Fi & Fantasy  "
      ]
     },
     "execution_count": 36,
     "metadata": {},
     "output_type": "execute_result"
    }
   ],
   "source": [
    "movies.loc[movies['duration_min'] == movies['duration_min'].max()]"
   ]
  },
  {
   "cell_type": "markdown",
   "id": "9fa630ee",
   "metadata": {},
   "source": [
    "<font size=\"3.5\">After checking this, we found out that this movie is extremely long because it gives the viewer the opportunity to choose how the story continues."
   ]
  },
  {
   "cell_type": "markdown",
   "id": "5d3c91ff",
   "metadata": {},
   "source": [
    "<font size=\"3.5\">Now we can do the same with TV shows (note that the duration of TV shows is measure in seasons)."
   ]
  },
  {
   "cell_type": "code",
   "execution_count": 37,
   "id": "14370dbd",
   "metadata": {},
   "outputs": [
    {
     "data": {
      "text/plain": [
       "1       2 Seasons\n",
       "2        1 Season\n",
       "3        1 Season\n",
       "4       2 Seasons\n",
       "5        1 Season\n",
       "          ...    \n",
       "8795    2 Seasons\n",
       "8796    2 Seasons\n",
       "8797    3 Seasons\n",
       "8800     1 Season\n",
       "8803    2 Seasons\n",
       "Name: duration, Length: 2676, dtype: object"
      ]
     },
     "execution_count": 37,
     "metadata": {},
     "output_type": "execute_result"
    }
   ],
   "source": [
    "TV_shows['duration']"
   ]
  },
  {
   "cell_type": "code",
   "execution_count": 38,
   "id": "0953a94b",
   "metadata": {},
   "outputs": [
    {
     "name": "stderr",
     "output_type": "stream",
     "text": [
      "/tmp/ipykernel_8817/445367307.py:1: SettingWithCopyWarning: \n",
      "A value is trying to be set on a copy of a slice from a DataFrame.\n",
      "Try using .loc[row_indexer,col_indexer] = value instead\n",
      "\n",
      "See the caveats in the documentation: https://pandas.pydata.org/pandas-docs/stable/user_guide/indexing.html#returning-a-view-versus-a-copy\n",
      "  TV_shows['duration'] = TV_shows['duration'].str.split().str[0]\n",
      "/tmp/ipykernel_8817/445367307.py:2: SettingWithCopyWarning: \n",
      "A value is trying to be set on a copy of a slice from a DataFrame.\n",
      "Try using .loc[row_indexer,col_indexer] = value instead\n",
      "\n",
      "See the caveats in the documentation: https://pandas.pydata.org/pandas-docs/stable/user_guide/indexing.html#returning-a-view-versus-a-copy\n",
      "  TV_shows['duration'] = TV_shows['duration'].astype(int)\n"
     ]
    }
   ],
   "source": [
    "TV_shows['duration'] = TV_shows['duration'].str.split().str[0]\n",
    "TV_shows['duration'] = TV_shows['duration'].astype(int)"
   ]
  },
  {
   "cell_type": "code",
   "execution_count": 39,
   "id": "5ebcee00",
   "metadata": {},
   "outputs": [],
   "source": [
    "TV_shows = TV_shows.rename(columns={'duration': 'duration_seasons'})"
   ]
  },
  {
   "cell_type": "code",
   "execution_count": 40,
   "id": "af440b70",
   "metadata": {},
   "outputs": [
    {
     "data": {
      "text/plain": [
       "count    2676.000000\n",
       "mean        1.764948\n",
       "std         1.582752\n",
       "min         1.000000\n",
       "25%         1.000000\n",
       "50%         1.000000\n",
       "75%         2.000000\n",
       "max        17.000000\n",
       "Name: duration_seasons, dtype: float64"
      ]
     },
     "execution_count": 40,
     "metadata": {},
     "output_type": "execute_result"
    }
   ],
   "source": [
    "TV_shows['duration_seasons'].describe()"
   ]
  },
  {
   "cell_type": "code",
   "execution_count": 41,
   "id": "1169e51b",
   "metadata": {},
   "outputs": [
    {
     "data": {
      "text/plain": [
       "[<matplotlib.axis.YTick at 0x7f69fed37a30>,\n",
       " <matplotlib.axis.YTick at 0x7f69fed373d0>,\n",
       " <matplotlib.axis.YTick at 0x7f69fed34760>,\n",
       " <matplotlib.axis.YTick at 0x7f69fed55a80>,\n",
       " <matplotlib.axis.YTick at 0x7f69fed54a90>,\n",
       " <matplotlib.axis.YTick at 0x7f69feda0670>,\n",
       " <matplotlib.axis.YTick at 0x7f69feda1120>,\n",
       " <matplotlib.axis.YTick at 0x7f69fed55d80>,\n",
       " <matplotlib.axis.YTick at 0x7f69feda0a60>,\n",
       " <matplotlib.axis.YTick at 0x7f69feda2050>,\n",
       " <matplotlib.axis.YTick at 0x7f69feda2b00>,\n",
       " <matplotlib.axis.YTick at 0x7f69feda35b0>,\n",
       " <matplotlib.axis.YTick at 0x7f69feda2d40>,\n",
       " <matplotlib.axis.YTick at 0x7f69feda3fd0>,\n",
       " <matplotlib.axis.YTick at 0x7f69febb0ac0>,\n",
       " <matplotlib.axis.YTick at 0x7f69febb1570>,\n",
       " <matplotlib.axis.YTick at 0x7f69febb2020>]"
      ]
     },
     "execution_count": 41,
     "metadata": {},
     "output_type": "execute_result"
    },
    {
     "data": {
      "image/png": "[encoded data removed]",
      "text/plain": [
       "<Figure size 1500x500 with 2 Axes>"
      ]
     },
     "metadata": {},
     "output_type": "display_data"
    }
   ],
   "source": [
    "fig2, (ax3, ax4) = plt.subplots(1,2, figsize=(15, 5), sharey = True)\n",
    "sns.boxplot(y = TV_shows['duration_seasons'], ax = ax3)\n",
    "sns.histplot(y = TV_shows['duration_seasons'], discrete=True, ax = ax4)\n",
    "ax3.set_yticks(list(range(1,18)))"
   ]
  },
  {
   "cell_type": "markdown",
   "id": "33b9769f",
   "metadata": {},
   "source": [
    "<font size=\"3.5\">We can observe that most of the TV shows have only 1 season. Also we can find out which is the TV show with most seasons (17 seasons)."
   ]
  },
  {
   "cell_type": "code",
   "execution_count": 42,
   "id": "33ca2513",
   "metadata": {},
   "outputs": [
    {
     "data": {
      "text/html": [
       "<div>\n",
       "<style scoped>\n",
       "    .dataframe tbody tr th:only-of-type {\n",
       "        vertical-align: middle;\n",
       "    }\n",
       "\n",
       "    .dataframe tbody tr th {\n",
       "        vertical-align: top;\n",
       "    }\n",
       "\n",
       "    .dataframe thead th {\n",
       "        text-align: right;\n",
       "    }\n",
       "</style>\n",
       "<table border=\"1\" class=\"dataframe\">\n",
       "  <thead>\n",
       "    <tr style=\"text-align: right;\">\n",
       "      <th></th>\n",
       "      <th>show_id</th>\n",
       "      <th>type</th>\n",
       "      <th>title</th>\n",
       "      <th>director</th>\n",
       "      <th>cast</th>\n",
       "      <th>country</th>\n",
       "      <th>date_added</th>\n",
       "      <th>release_year</th>\n",
       "      <th>rating</th>\n",
       "      <th>duration_seasons</th>\n",
       "      <th>genre</th>\n",
       "    </tr>\n",
       "  </thead>\n",
       "  <tbody>\n",
       "    <tr>\n",
       "      <th>548</th>\n",
       "      <td>s549</td>\n",
       "      <td>TV Show</td>\n",
       "      <td>Grey's Anatomy</td>\n",
       "      <td>Unknown</td>\n",
       "      <td>Ellen Pompeo, Sandra Oh, Katherine Heigl, Just...</td>\n",
       "      <td>United States</td>\n",
       "      <td>2021-07-03</td>\n",
       "      <td>2020</td>\n",
       "      <td>TV-14</td>\n",
       "      <td>17</td>\n",
       "      <td>Romantic TV Shows, TV Dramas</td>\n",
       "    </tr>\n",
       "  </tbody>\n",
       "</table>\n",
       "</div>"
      ],
      "text/plain": [
       "    show_id     type           title director  \\\n",
       "548    s549  TV Show  Grey's Anatomy  Unknown   \n",
       "\n",
       "                                                  cast        country  \\\n",
       "548  Ellen Pompeo, Sandra Oh, Katherine Heigl, Just...  United States   \n",
       "\n",
       "    date_added  release_year rating  duration_seasons  \\\n",
       "548 2021-07-03          2020  TV-14                17   \n",
       "\n",
       "                            genre  \n",
       "548  Romantic TV Shows, TV Dramas  "
      ]
     },
     "execution_count": 42,
     "metadata": {},
     "output_type": "execute_result"
    }
   ],
   "source": [
    "TV_shows.loc[TV_shows['duration_seasons'] == TV_shows['duration_seasons'].max()]"
   ]
  },
  {
   "cell_type": "markdown",
   "id": "e95bbe43",
   "metadata": {},
   "source": [
    "**3 - <font size=\"3.5\">Has there been a difference between the number of TV shows and movies added over the years?**"
   ]
  },
  {
   "cell_type": "code",
   "execution_count": 43,
   "id": "0c006a6a",
   "metadata": {},
   "outputs": [
    {
     "data": {
      "text/plain": [
       "<matplotlib.legend.Legend at 0x7f69febf4e20>"
      ]
     },
     "execution_count": 43,
     "metadata": {},
     "output_type": "execute_result"
    },
    {
     "data": {
      "image/png": "[encoded data removed]",
      "text/plain": [
       "<Figure size 1500x500 with 1 Axes>"
      ]
     },
     "metadata": {},
     "output_type": "display_data"
    }
   ],
   "source": [
    "df_date_added = df.loc[df['date_added'].isnull() == False]\n",
    "fig3, ax5 = plt.subplots(figsize=(15, 5))\n",
    "sns.countplot(data = df_date_added, x= df_date_added['date_added'].dt.year.astype(int), hue = df_date_added['type'], palette=['red',\"dimgrey\"], ax=ax5)\n",
    "ax5.set_title('Number of movies / TV shows added to netflix over the years')\n",
    "ax5.set_ylabel(None)\n",
    "ax5.set_xlabel('Year')\n",
    "ax5.legend(loc = 'upper left')"
   ]
  },
  {
   "cell_type": "markdown",
   "id": "ce905b51",
   "metadata": {},
   "source": [
    "<font size=\"3.5\">We can see that the amount of both grew up a lot in the past few years, but the number of movies where always greater"
   ]
  },
  {
   "cell_type": "markdown",
   "id": "a26767c7",
   "metadata": {},
   "source": [
    "**4- <font size=\"3.5\">What was the day with more movies / TV shows added? Is there a particular day of the year where Netflix add more content? And of the month? And of the week?**"
   ]
  },
  {
   "cell_type": "code",
   "execution_count": 44,
   "id": "d6767e8e",
   "metadata": {},
   "outputs": [
    {
     "data": {
      "text/plain": [
       "2020-01-01    110\n",
       "2019-11-01     91\n",
       "2018-03-01     75\n",
       "2019-12-31     74\n",
       "2018-10-01     71\n",
       "2019-10-01     62\n",
       "2018-11-01     60\n",
       "2021-07-01     60\n",
       "2021-09-01     56\n",
       "2018-01-01     55\n",
       "Name: date_added, dtype: int64"
      ]
     },
     "execution_count": 44,
     "metadata": {},
     "output_type": "execute_result"
    }
   ],
   "source": [
    "df['date_added'].value_counts().head(10)"
   ]
  },
  {
   "cell_type": "markdown",
   "id": "e3376211",
   "metadata": {},
   "source": [
    "<font size=\"3.5\">We see that the day with most content added with a total of 110 was the first day of January of 2020. We can also observe if there is a particular day during the year in which most content it was uploaded."
   ]
  },
  {
   "cell_type": "code",
   "execution_count": 45,
   "id": "00bcbd5b",
   "metadata": {},
   "outputs": [
    {
     "data": {
      "text/plain": [
       "1      304\n",
       "274    202\n",
       "182    200\n",
       "305    190\n",
       "244    153\n",
       "213    148\n",
       "91     146\n",
       "60     138\n",
       "365    128\n",
       "121    123\n",
       "Name: date_added, dtype: int64"
      ]
     },
     "execution_count": 45,
     "metadata": {},
     "output_type": "execute_result"
    }
   ],
   "source": [
    "df_date_added['date_added'].dt.dayofyear.astype(int).value_counts().head(10)"
   ]
  },
  {
   "cell_type": "markdown",
   "id": "ca37a3be",
   "metadata": {},
   "source": [
    "<font size=\"3.5\"> We can notice that the first day of the year is the day with the most content uploaded, with almost a 50% more content uploaded compared to the second day of most content uploaded. Now, let's do the same with the day of the month."
   ]
  },
  {
   "cell_type": "code",
   "execution_count": 46,
   "id": "f4f3471b",
   "metadata": {},
   "outputs": [
    {
     "data": {
      "text/plain": [
       "1     2212\n",
       "15     687\n",
       "2      325\n",
       "16     289\n",
       "31     274\n",
       "20     249\n",
       "19     243\n",
       "5      231\n",
       "22     230\n",
       "10     214\n",
       "30     210\n",
       "6      210\n",
       "18     207\n",
       "26     206\n",
       "8      201\n",
       "14     198\n",
       "25     197\n",
       "27     195\n",
       "7      194\n",
       "21     193\n",
       "28     190\n",
       "23     184\n",
       "12     181\n",
       "17     180\n",
       "4      175\n",
       "13     175\n",
       "24     159\n",
       "3      151\n",
       "11     149\n",
       "9      147\n",
       "29     141\n",
       "Name: date_added, dtype: int64"
      ]
     },
     "execution_count": 46,
     "metadata": {},
     "output_type": "execute_result"
    }
   ],
   "source": [
    "df_date_added['date_added'].dt.day.astype(int).value_counts()"
   ]
  },
  {
   "cell_type": "code",
   "execution_count": 47,
   "id": "df9cb6c3",
   "metadata": {},
   "outputs": [
    {
     "data": {
      "text/plain": [
       "1     25.144936\n",
       "15     7.809481\n",
       "2      3.694441\n",
       "16     3.285211\n",
       "31     3.114698\n",
       "20     2.830510\n",
       "19     2.762305\n",
       "5      2.625895\n",
       "22     2.614528\n",
       "10     2.432647\n",
       "30     2.387177\n",
       "6      2.387177\n",
       "18     2.353075\n",
       "26     2.341707\n",
       "8      2.284870\n",
       "14     2.250767\n",
       "25     2.239400\n",
       "27     2.216665\n",
       "7      2.205297\n",
       "21     2.193930\n",
       "28     2.159827\n",
       "23     2.091622\n",
       "12     2.057520\n",
       "17     2.046152\n",
       "4      1.989315\n",
       "13     1.989315\n",
       "24     1.807434\n",
       "3      1.716494\n",
       "11     1.693759\n",
       "9      1.671024\n",
       "29     1.602819\n",
       "Name: date_added, dtype: float64"
      ]
     },
     "execution_count": 47,
     "metadata": {},
     "output_type": "execute_result"
    }
   ],
   "source": [
    "df_date_added['date_added'].dt.day.astype(int).value_counts() / df_date_added['date_added'].count()*100"
   ]
  },
  {
   "cell_type": "markdown",
   "id": "6bd3a13a",
   "metadata": {},
   "source": [
    "<font size=\"3.5\">We can see that the first day of the month is the day where more content is added (around of the 25% of the montly content). Let's graph that:"
   ]
  },
  {
   "cell_type": "code",
   "execution_count": 48,
   "id": "1c7eb149",
   "metadata": {},
   "outputs": [
    {
     "data": {
      "text/plain": [
       "Text(0.5, 0, '')"
      ]
     },
     "execution_count": 48,
     "metadata": {},
     "output_type": "execute_result"
    },
    {
     "data": {
      "image/png": "[encoded data removed]",
      "text/plain": [
       "<Figure size 1500x500 with 1 Axes>"
      ]
     },
     "metadata": {},
     "output_type": "display_data"
    }
   ],
   "source": [
    "fig5, ax7 = plt.subplots(figsize=(15, 5))\n",
    "sns.countplot(data = df_date_added, x = df_date_added['date_added'].dt.day.astype(int), color = 'grey', ax = ax7)\n",
    "ax7.set_title('Number content added to Netflix by day of the month')\n",
    "ax7.set_ylabel(None)\n",
    "ax7.set_xlabel(None)"
   ]
  },
  {
   "cell_type": "markdown",
   "id": "88159abf",
   "metadata": {},
   "source": [
    "<font size=\"3.5\">Lastly, we can find out what is the day of the week in which Netflix have uploaded more content."
   ]
  },
  {
   "cell_type": "code",
   "execution_count": 49,
   "id": "f06f5383",
   "metadata": {},
   "outputs": [
    {
     "data": {
      "text/plain": [
       "0     851\n",
       "1    1197\n",
       "2    1288\n",
       "3    1396\n",
       "4    2498\n",
       "5     816\n",
       "6     751\n",
       "Name: date_added, dtype: int64"
      ]
     },
     "execution_count": 49,
     "metadata": {},
     "output_type": "execute_result"
    }
   ],
   "source": [
    "df_date_added['date_added'].dt.dayofweek.astype(int).value_counts().sort_index()"
   ]
  },
  {
   "cell_type": "markdown",
   "id": "28937c07",
   "metadata": {},
   "source": [
    "<font size=\"3.5\">Where 0 correspond to Monday and 6 to Sunday."
   ]
  },
  {
   "cell_type": "code",
   "execution_count": 50,
   "id": "43fc29d0",
   "metadata": {},
   "outputs": [
    {
     "data": {
      "text/plain": [
       "0     9.673752\n",
       "1    13.606911\n",
       "2    14.641355\n",
       "3    15.869046\n",
       "4    28.396044\n",
       "5     9.275890\n",
       "6     8.537001\n",
       "Name: date_added, dtype: float64"
      ]
     },
     "execution_count": 50,
     "metadata": {},
     "output_type": "execute_result"
    }
   ],
   "source": [
    "df_date_added['date_added'].dt.dayofweek.astype(int).value_counts().sort_index() / df_date_added['date_added'].count()*100"
   ]
  },
  {
   "cell_type": "code",
   "execution_count": 51,
   "id": "92fc8e6e",
   "metadata": {},
   "outputs": [
    {
     "data": {
      "text/plain": [
       "[Text(0, 0, 'Monday'),\n",
       " Text(1, 0, 'Tuesday'),\n",
       " Text(2, 0, 'Wednesday'),\n",
       " Text(3, 0, 'Thursday'),\n",
       " Text(4, 0, 'Friday'),\n",
       " Text(5, 0, 'Saturday'),\n",
       " Text(6, 0, 'Sunday')]"
      ]
     },
     "execution_count": 51,
     "metadata": {},
     "output_type": "execute_result"
    },
    {
     "data": {
      "image/png": "[encoded data removed]",
      "text/plain": [
       "<Figure size 1500x500 with 1 Axes>"
      ]
     },
     "metadata": {},
     "output_type": "display_data"
    }
   ],
   "source": [
    "fig6, ax8 = plt.subplots(figsize=(15, 5))\n",
    "sns.countplot(data = df_date_added, x = df_date_added['date_added'].dt.dayofweek.astype(int), color = 'grey', ax = ax8)\n",
    "ax8.set_title('Number content added to Netflix by day of the week')\n",
    "ax8.set_ylabel(None)\n",
    "ax8.set_xlabel(None)\n",
    "ax8.set_xticklabels(['Monday', 'Tuesday','Wednesday','Thursday','Friday','Saturday', 'Sunday'])"
   ]
  },
  {
   "cell_type": "markdown",
   "id": "2466edb1",
   "metadata": {},
   "source": [
    "<font size=\"3.5\">Here we can see that on Friday most content was uploaded (around the 28% of the content of the week). If you think about it, it makes sense because most of the people watch Netflix on the weekends."
   ]
  },
  {
   "cell_type": "markdown",
   "id": "d3518e6a",
   "metadata": {},
   "source": [
    "**5 - <font size=\"3.5\">What is the genre with the most movies? And the TV show?**"
   ]
  },
  {
   "cell_type": "code",
   "execution_count": 52,
   "id": "1e707db2",
   "metadata": {},
   "outputs": [
    {
     "name": "stderr",
     "output_type": "stream",
     "text": [
      "/tmp/ipykernel_8817/2076994249.py:1: FutureWarning: The default value of regex will change from True to False in a future version.\n",
      "  s = TV_shows.genre.str.replace('\\.',',').str.strip().str.split(', ', expand=True).stack().value_counts()\n"
     ]
    }
   ],
   "source": [
    "s = TV_shows.genre.str.replace('\\.',',').str.strip().str.split(', ', expand=True).stack().value_counts()"
   ]
  },
  {
   "cell_type": "code",
   "execution_count": 53,
   "id": "db1f0cf7",
   "metadata": {},
   "outputs": [
    {
     "data": {
      "text/plain": [
       "International TV Shows          1351\n",
       "TV Dramas                        763\n",
       "TV Comedies                      581\n",
       "Crime TV Shows                   470\n",
       "Kids' TV                         451\n",
       "Docuseries                       395\n",
       "Romantic TV Shows                370\n",
       "Reality TV                       255\n",
       "British TV Shows                 253\n",
       "Anime Series                     176\n",
       "Spanish-Language TV Shows        174\n",
       "TV Action & Adventure            168\n",
       "Korean TV Shows                  151\n",
       "TV Mysteries                      98\n",
       "Science & Nature TV               92\n",
       "TV Sci-Fi & Fantasy               84\n",
       "TV Horror                         75\n",
       "Teen TV Shows                     69\n",
       "TV Thrillers                      57\n",
       "Stand-Up Comedy & Talk Shows      56\n",
       "Classic & Cult TV                 28\n",
       "TV Shows                          16\n",
       "dtype: int64"
      ]
     },
     "execution_count": 53,
     "metadata": {},
     "output_type": "execute_result"
    }
   ],
   "source": [
    "s"
   ]
  },
  {
   "cell_type": "code",
   "execution_count": 54,
   "id": "99d0500e",
   "metadata": {},
   "outputs": [
    {
     "name": "stderr",
     "output_type": "stream",
     "text": [
      "/tmp/ipykernel_8817/4137561827.py:1: FutureWarning: The default value of regex will change from True to False in a future version.\n",
      "  m = movies.genre.str.replace('\\.',',').str.strip().str.split(', ', expand=True).stack().value_counts()\n"
     ]
    }
   ],
   "source": [
    "m = movies.genre.str.replace('\\.',',').str.strip().str.split(', ', expand=True).stack().value_counts()"
   ]
  },
  {
   "cell_type": "code",
   "execution_count": 55,
   "id": "b708d27c",
   "metadata": {},
   "outputs": [
    {
     "data": {
      "text/plain": [
       "International Movies        2752\n",
       "Dramas                      2427\n",
       "Comedies                    1674\n",
       "Documentaries                869\n",
       "Action & Adventure           859\n",
       "Independent Movies           756\n",
       "Children & Family Movies     641\n",
       "Romantic Movies              616\n",
       "Thrillers                    577\n",
       "Music & Musicals             375\n",
       "Horror Movies                357\n",
       "Stand-Up Comedy              343\n",
       "Sci-Fi & Fantasy             243\n",
       "Sports Movies                219\n",
       "Classic Movies               116\n",
       "LGBTQ Movies                 102\n",
       "Anime Features                71\n",
       "Cult Movies                   71\n",
       "Faith & Spirituality          65\n",
       "Movies                        57\n",
       "dtype: int64"
      ]
     },
     "execution_count": 55,
     "metadata": {},
     "output_type": "execute_result"
    }
   ],
   "source": [
    "m"
   ]
  },
  {
   "cell_type": "markdown",
   "id": "9c4f9418",
   "metadata": {},
   "source": [
    "<font size=\"3.5\">We can see that in both cases International, Dramas and Comedies lead the top 3 of uploaded genres"
   ]
  },
  {
   "cell_type": "markdown",
   "id": "9883b7d9",
   "metadata": {},
   "source": [
    "**6 - <font size=\"3.5\">Which director has more movies / TV shows on the platform?**"
   ]
  },
  {
   "cell_type": "code",
   "execution_count": 56,
   "id": "fc1d62c2",
   "metadata": {
    "scrolled": true
   },
   "outputs": [
    {
     "data": {
      "text/plain": [
       "Rajiv Chilaka             19\n",
       "Raúl Campos, Jan Suter    18\n",
       "Marcus Raboy              16\n",
       "Suhas Kadav               16\n",
       "Jay Karas                 14\n",
       "Cathy Garcia-Molina       13\n",
       "Martin Scorsese           12\n",
       "Youssef Chahine           12\n",
       "Jay Chapman               12\n",
       "Steven Spielberg          11\n",
       "Name: director, dtype: int64"
      ]
     },
     "execution_count": 56,
     "metadata": {},
     "output_type": "execute_result"
    }
   ],
   "source": [
    "df[df['director'] != 'Unknown']['director'].value_counts().head(10)"
   ]
  },
  {
   "cell_type": "markdown",
   "id": "0346016a",
   "metadata": {},
   "source": [
    "<font size=\"3.5\">The director with most movies is Rajiv Chilaka with 19."
   ]
  },
  {
   "cell_type": "markdown",
   "id": "c216d7d6",
   "metadata": {},
   "source": [
    "**7 - <font size=\"3.5\">Which country has produced more movies / TV shows?**"
   ]
  },
  {
   "cell_type": "code",
   "execution_count": 57,
   "id": "161b0531",
   "metadata": {},
   "outputs": [
    {
     "data": {
      "text/plain": [
       "United States     2818\n",
       "India              972\n",
       "United Kingdom     419\n",
       "Japan              245\n",
       "South Korea        199\n",
       "Canada             181\n",
       "Spain              145\n",
       "France             124\n",
       "Mexico             110\n",
       "Egypt              106\n",
       "Name: country, dtype: int64"
      ]
     },
     "execution_count": 57,
     "metadata": {},
     "output_type": "execute_result"
    }
   ],
   "source": [
    "df[df['country'] != 'Unknown']['country'].value_counts().head(10)"
   ]
  },
  {
   "cell_type": "code",
   "execution_count": 58,
   "id": "5b3f0045",
   "metadata": {},
   "outputs": [
    {
     "data": {
      "text/plain": [
       "type   country       \n",
       "Movie  United States     2058\n",
       "       India              893\n",
       "       United Kingdom     206\n",
       "       Canada             122\n",
       "       Spain               97\n",
       "       Egypt               92\n",
       "       Nigeria             86\n",
       "       Indonesia           77\n",
       "       Japan               76\n",
       "       Turkey              76\n",
       "Name: country, dtype: int64"
      ]
     },
     "execution_count": 58,
     "metadata": {},
     "output_type": "execute_result"
    }
   ],
   "source": [
    "df[df['country'] != 'Unknown'].groupby('type')['country'].value_counts().head(10)"
   ]
  },
  {
   "cell_type": "markdown",
   "id": "c7914e79",
   "metadata": {},
   "source": [
    "<font size=\"3.5\">And again all of them are movies. We have to considerar that this is also because the amount of movies is around 70%"
   ]
  },
  {
   "cell_type": "code",
   "execution_count": null,
   "id": "aece339e",
   "metadata": {},
   "outputs": [],
   "source": []
  }
 ],
 "metadata": {
  "kernelspec": {
   "display_name": "Python 3 (ipykernel)",
   "language": "python",
   "name": "python3"
  },
  "language_info": {
   "codemirror_mode": {
    "name": "ipython",
    "version": 3
   },
   "file_extension": ".py",
   "mimetype": "text/x-python",
   "name": "python",
   "nbconvert_exporter": "python",
   "pygments_lexer": "ipython3",
   "version": "3.10.6"
  }
 },
 "nbformat": 4,
 "nbformat_minor": 5
}
